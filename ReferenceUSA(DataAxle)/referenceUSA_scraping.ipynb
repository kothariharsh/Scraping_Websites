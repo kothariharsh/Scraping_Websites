{
 "cells": [
  {
   "cell_type": "code",
   "execution_count": null,
   "metadata": {},
   "outputs": [],
   "source": []
  },
  {
   "cell_type": "code",
   "execution_count": 3,
   "metadata": {},
   "outputs": [
    {
     "name": "stdout",
     "output_type": "stream",
     "text": [
      "Collecting selenium\n",
      "  Using cached selenium-3.141.0-py2.py3-none-any.whl (904 kB)\n",
      "Requirement already satisfied: urllib3 in c:\\users\\harsh\\anaconda3\\lib\\site-packages (from selenium) (1.26.6)\n",
      "Installing collected packages: selenium\n",
      "Successfully installed selenium-3.141.0\n"
     ]
    }
   ],
   "source": [
    "!pip install selenium"
   ]
  },
  {
   "cell_type": "code",
   "execution_count": 4,
   "metadata": {},
   "outputs": [],
   "source": [
    "from bs4 import BeautifulSoup\n",
    "from selenium import webdriver\n",
    "from selenium.webdriver.support.ui import WebDriverWait\n",
    "from selenium.webdriver.support import expected_conditions as EC\n",
    "from selenium.webdriver.common.by import By\n",
    "from selenium.webdriver.common.keys import Keys\n",
    "from time import sleep\n",
    "from random import randint\n",
    "import csv\n",
    "import time\n",
    "import requests \n",
    "import lxml \n",
    "import pandas as pd"
   ]
  },
  {
   "cell_type": "code",
   "execution_count": 5,
   "metadata": {},
   "outputs": [],
   "source": [
    "from selenium import webdriver\n",
    "from selenium.webdriver.chrome.options import Options\n",
    "chrome_options = Options()\n",
    "chrome_options.add_argument(\"--incognito\")\n",
    "# chrome_options.add_argument(\"--headless\")"
   ]
  },
  {
   "cell_type": "code",
   "execution_count": 34,
   "metadata": {},
   "outputs": [],
   "source": [
    "base_url = 'http://www.referenceusa.com.chipublib.idm.oclc.org/UsBusiness/Result/e6e938dbb477478090bdbe5edb3c7a5f'\n",
    "PATH = 'C:\\Program Files (x86)\\chromedriver'"
   ]
  },
  {
   "cell_type": "code",
   "execution_count": 41,
   "metadata": {},
   "outputs": [],
   "source": [
    "# for i in range(len(links)):\n",
    "    # url = links[i]\n",
    "request = requests.get(base_url)\n",
    "# checking to see if the url exists\n",
    "# driver = webdriver.Chrome(PATH,options=chrome_options)\n",
    "driver = webdriver.Chrome(PATH)\n",
    "driver.get(base_url)\n",
    "\n",
    "# print(driver.page_source)\n",
    "\n",
    "        \n",
    "# search_login = driver.find_element_by_id(\"user_name_5j08iadtdqikinsftu99juf7g4\")\n",
    "\n",
    "try:\n",
    "    search_login = driver.find_element_by_class_name(\"field_username\")\n",
    "\n",
    "except:\n",
    "    driver.quit()\n",
    "search_login.send_keys(\"PACREG2246356\")\n",
    "    \n",
    "    \n",
    "search_pass = driver.find_element_by_name(\"user_pin\")\n",
    "search_pass.send_keys(\"9169\")\n",
    "search_enter = driver.find_element_by_name(\"commit\")\n",
    "search_enter.send_keys(Keys.RETURN)\n",
    "\n",
    "# i= WebDriverWait(driver,30).until(\n",
    "#     #     driver.find_element_by_id(\"checkboxCol\")\n",
    "#         EC.element_to_be_clickable((By.CSS_SELECTOR,\".page.click-enterkey\"))\n",
    "#     )\n",
    "# i.clear()\n",
    "\n",
    "# tex= WebDriverWait(driver,40).until(\n",
    "#     #     driver.find_element_by_id(\"checkboxCol\")\n",
    "#         EC.presence_of_element_located((By.CSS_SELECTOR,\".text\"))\n",
    "#     )\n",
    "# tex.send_keys(\"1\")\n",
    "\n",
    "for i in range(20):\n",
    "    tick = WebDriverWait(driver,30).until(\n",
    "    #     driver.find_element_by_id(\"checkboxCol\")\n",
    "        EC.element_to_be_clickable((By.ID,\"checkboxCol\"))\n",
    "    )\n",
    "    time.sleep(1)\n",
    "    tick.click()\n",
    "    next1 = WebDriverWait(driver,30).until(\n",
    "    #     driver.find_element_by_id(\"checkboxCol\")\n",
    "        EC.element_to_be_clickable((By.CSS_SELECTOR,\".next\"))\n",
    "    )\n",
    "    time.sleep(1)\n",
    "    next1.click()\n",
    "    \n",
    "    driver.refresh()\n",
    "# download = WebDriverWait(driver,30).until(\n",
    "#     #     driver.find_element_by_id(\"checkboxCol\")\n",
    "#         EC.presence_of_element_located((By.CSS_SELECTOR,\".action.download\"))\n",
    "#     )\n",
    "# download.click()\n",
    "\n",
    "    \n",
    "\n",
    "\n",
    "# soup = BeautifulSoup(driver.page_source, 'html.parser')\n",
    "# print(soup)"
   ]
  },
  {
   "cell_type": "code",
   "execution_count": null,
   "metadata": {},
   "outputs": [],
   "source": [
    "## Use this code if you have any data that you need to import from the excel file.\n",
    "\n",
    "\n",
    "# import openpyxl\n",
    "\n",
    "# wb = openpyxl.load_workbook('texas.xlsx')\n",
    "\n",
    "# ws = wb.get_sheet_by_name('County')\n",
    "\n",
    "# # r = 8\n",
    "# c = 2\n",
    "# links=[]\n",
    "# for i in range(r,262):\n",
    "#     links.append(base_url+ws.cell(row = i, column = c).value.lower().replace(\" \",\"-\")+\"-tx\")"
   ]
  }
 ],
 "metadata": {
  "kernelspec": {
   "display_name": "Python 3",
   "language": "python",
   "name": "python3"
  },
  "language_info": {
   "codemirror_mode": {
    "name": "ipython",
    "version": 3
   },
   "file_extension": ".py",
   "mimetype": "text/x-python",
   "name": "python",
   "nbconvert_exporter": "python",
   "pygments_lexer": "ipython3",
   "version": "3.8.8"
  }
 },
 "nbformat": 4,
 "nbformat_minor": 4
}