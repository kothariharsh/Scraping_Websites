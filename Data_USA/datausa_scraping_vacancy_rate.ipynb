{
  "nbformat": 4,
  "nbformat_minor": 0,
  "metadata": {
    "kernelspec": {
      "display_name": "Python 3",
      "language": "python",
      "name": "python3"
    },
    "language_info": {
      "codemirror_mode": {
        "name": "ipython",
        "version": 3
      },
      "file_extension": ".py",
      "mimetype": "text/x-python",
      "name": "python",
      "nbconvert_exporter": "python",
      "pygments_lexer": "ipython3",
      "version": "3.7.6-final"
    },
    "colab": {
      "name": "datausa_scraping_vacancy_rate.ipynb",
      "provenance": [],
      "collapsed_sections": []
    }
  },
  "cells": [
    {
      "cell_type": "code",
      "metadata": {
        "id": "fyZ2pbimzKmS",
        "outputId": "3db3dd49-f608-47a2-bb6d-ef3dba026d0d"
      },
      "source": [
        "import openpyxl\n",
        "\n",
        "wb = openpyxl.load_workbook('texas.xlsx')\n",
        "\n",
        "ws = wb.get_sheet_by_name('County')\n",
        "\n",
        "r = 8\n",
        "c = 2\n",
        "links=[]\n",
        "for i in range(r,262):\n",
        "    links.append(base_url+ws.cell(row = i, column = c).value.lower().replace(\" \",\"-\")+\"-tx\")"
      ],
      "execution_count": null,
      "outputs": [
        {
          "output_type": "stream",
          "text": [
            "C:\\ProgramData\\Anaconda3\\lib\\site-packages\\ipykernel_launcher.py:5: DeprecationWarning: Call to deprecated function get_sheet_by_name (Use wb[sheetname]).\n",
            "  \"\"\"\n"
          ],
          "name": "stderr"
        }
      ]
    },
    {
      "cell_type": "code",
      "metadata": {
        "id": "TUpLC0e0zKmU"
      },
      "source": [
        "from bs4 import BeautifulSoup\n",
        "from selenium import webdriver\n",
        "from time import sleep\n",
        "from random import randint\n",
        "import csv\n",
        "import requests \n",
        "import lxml \n",
        "import pandas as pd"
      ],
      "execution_count": null,
      "outputs": []
    },
    {
      "cell_type": "code",
      "metadata": {
        "id": "s59UXtX9zKmU"
      },
      "source": [
        "from selenium import webdriver\n",
        "from selenium.webdriver.chrome.options import Options\n",
        "chrome_options = Options()\n",
        "chrome_options.add_argument(\"--headless\")"
      ],
      "execution_count": null,
      "outputs": []
    },
    {
      "cell_type": "code",
      "metadata": {
        "id": "g3qsuVZ8zKmV"
      },
      "source": [
        "base_url = 'https://datausa.io/profile/geo/'\n",
        "DRIVER = 'C:\\Program Files (x86)\\chromedriver'"
      ],
      "execution_count": null,
      "outputs": []
    },
    {
      "cell_type": "code",
      "metadata": {
        "id": "-tbveTdVzXDI"
      },
      "source": [
        "url = 'https://datausa.io/profile/geo/anderson-county-tx'\n",
        "driver = webdriver.Chrome(executable_path=DRIVER)\n",
        "driver.get(url)\n",
        "soup = BeautifulSoup(driver.page_source, 'html.parser')\n",
        "val= soup.find_all(\"div\",attrs={\"class\":\"Stat large-text\"})[3]\n",
        "v2 = val.find(\"div\",attrs={\"class\":\"stat-value\"}).text"
      ],
      "execution_count": null,
      "outputs": []
    },
    {
      "cell_type": "code",
      "metadata": {
        "id": "e3846XkCzKmV"
      },
      "source": [
        "median_income = []\n",
        "median_growth_1year= []\n",
        "for i in range(len(links)):\n",
        "    url = links[i]\n",
        "    request = requests.get(url)\n",
        "    # checking to see if the url exists\n",
        "    driver = webdriver.Chrome(executable_path=DRIVER, options=chrome_options)\n",
        "    driver.get(url)\n",
        "    soup = BeautifulSoup(driver.page_source, 'html.parser')\n",
        "    val= soup.find_all(\"div\",attrs={\"class\":\"Stat large-text\"})[3]\n",
        "    median_income.append(val.find(\"div\",attrs={\"class\":\"stat-value\"}).text)\n",
        "    median_growth_1year.append(val.find(\"div\",attrs={\"class\":\"stat-subtitle\"}).text)\n",
        "    driver.close()"
      ],
      "execution_count": null,
      "outputs": []
    },
    {
      "cell_type": "code",
      "metadata": {
        "id": "3XM-PWIgzKmW",
        "outputId": "daf197c9-b22a-49e8-e774-71e79e3a5798"
      },
      "source": [
        "median_growth_1year"
      ],
      "execution_count": null,
      "outputs": [
        {
          "output_type": "execute_result",
          "data": {
            "text/plain": [
              "[]"
            ]
          },
          "metadata": {
            "tags": []
          },
          "execution_count": 8
        }
      ]
    },
    {
      "cell_type": "code",
      "metadata": {
        "id": "CbDBGHJFzKmX"
      },
      "source": [
        ""
      ],
      "execution_count": null,
      "outputs": []
    },
    {
      "cell_type": "markdown",
      "metadata": {
        "id": "DimlPmpCzKmX"
      },
      "source": [
        "# For Median Age and Poverty Rate"
      ]
    },
    {
      "cell_type": "code",
      "metadata": {
        "id": "FbwPYNFazccm"
      },
      "source": [
        "url = 'https://datausa.io/profile/geo/anderson-county-tx'\n",
        "driver = webdriver.Chrome(executable_path=DRIVER, options=chrome_options)\n",
        "driver.get(url)\n",
        "soup = BeautifulSoup(driver.page_source, 'html.parser')\n",
        "age= soup.find_all(\"div\",attrs={\"class\":\"Stat large-text\"})[1]\n",
        "ageval = float(age.find(\"div\",attrs={\"class\":\"stat-value\"}).text)\n",
        "pov= soup.find_all(\"div\",attrs={\"class\":\"Stat large-text\"})[2]\n",
        "povval = pov.find(\"div\",attrs={\"class\":\"stat-value\"}).text"
      ],
      "execution_count": null,
      "outputs": []
    },
    {
      "cell_type": "code",
      "metadata": {
        "id": "BvbhsaV3zKmX"
      },
      "source": [
        "median_age = []\n",
        "current_poverty_rate= []\n",
        "for i in range(len(links)):\n",
        "    url = links[i]\n",
        "    request = requests.get(url)\n",
        "    # checking to see if the url exists\n",
        "    driver = webdriver.Chrome(executable_path=DRIVER, options=chrome_options)\n",
        "    driver.get(url)\n",
        "    soup = BeautifulSoup(driver.page_source, 'html.parser')\n",
        "    age= soup.find_all(\"div\",attrs={\"class\":\"Stat large-text\"})[1]\n",
        "    median_age.append(float(age.find(\"div\",attrs={\"class\":\"stat-value\"}).text))\n",
        "    pov= soup.find_all(\"div\",attrs={\"class\":\"Stat large-text\"})[2]\n",
        "    current_poverty_rate.append(pov.find(\"div\",attrs={\"class\":\"stat-value\"}).text)\n",
        "    driver.close()"
      ],
      "execution_count": null,
      "outputs": []
    },
    {
      "cell_type": "code",
      "metadata": {
        "id": "uTs6RbLizKmY",
        "outputId": "de3a5c2d-5ab1-4cf1-a31e-2d0a9aebc4eb"
      },
      "source": [
        "df1 = pd.Series(median_age)\n",
        "df2 = pd.Series(current_poverty_rate)\n",
        "df = pd.concat([df1,df2],axis=1)\n",
        "df.rename(columns={0:'median_age',1:'current_poverty_rate'},inplace=True)\n",
        "df"
      ],
      "execution_count": null,
      "outputs": [
        {
          "output_type": "execute_result",
          "data": {
            "text/plain": [
              "     median_age current_poverty_rate\n",
              "0          39.1                14.8%\n",
              "1          31.2                10.4%\n",
              "2          37.2                18.3%\n",
              "3          49.6                20.3%\n",
              "4          44.5                9.25%\n",
              "..          ...                  ...\n",
              "249        48.2                14.2%\n",
              "250        31.2                9.02%\n",
              "251        41.4                12.1%\n",
              "252        29.6                39.5%\n",
              "253        32.9                34.8%\n",
              "\n",
              "[254 rows x 2 columns]"
            ],
            "text/html": [
              "<div>\n",
              "<style scoped>\n",
              "    .dataframe tbody tr th:only-of-type {\n",
              "        vertical-align: middle;\n",
              "    }\n",
              "\n",
              "    .dataframe tbody tr th {\n",
              "        vertical-align: top;\n",
              "    }\n",
              "\n",
              "    .dataframe thead th {\n",
              "        text-align: right;\n",
              "    }\n",
              "</style>\n",
              "<table border=\"1\" class=\"dataframe\">\n",
              "  <thead>\n",
              "    <tr style=\"text-align: right;\">\n",
              "      <th></th>\n",
              "      <th>median_age</th>\n",
              "      <th>current_poverty_rate</th>\n",
              "    </tr>\n",
              "  </thead>\n",
              "  <tbody>\n",
              "    <tr>\n",
              "      <th>0</th>\n",
              "      <td>39.1</td>\n",
              "      <td>14.8%</td>\n",
              "    </tr>\n",
              "    <tr>\n",
              "      <th>1</th>\n",
              "      <td>31.2</td>\n",
              "      <td>10.4%</td>\n",
              "    </tr>\n",
              "    <tr>\n",
              "      <th>2</th>\n",
              "      <td>37.2</td>\n",
              "      <td>18.3%</td>\n",
              "    </tr>\n",
              "    <tr>\n",
              "      <th>3</th>\n",
              "      <td>49.6</td>\n",
              "      <td>20.3%</td>\n",
              "    </tr>\n",
              "    <tr>\n",
              "      <th>4</th>\n",
              "      <td>44.5</td>\n",
              "      <td>9.25%</td>\n",
              "    </tr>\n",
              "    <tr>\n",
              "      <th>...</th>\n",
              "      <td>...</td>\n",
              "      <td>...</td>\n",
              "    </tr>\n",
              "    <tr>\n",
              "      <th>249</th>\n",
              "      <td>48.2</td>\n",
              "      <td>14.2%</td>\n",
              "    </tr>\n",
              "    <tr>\n",
              "      <th>250</th>\n",
              "      <td>31.2</td>\n",
              "      <td>9.02%</td>\n",
              "    </tr>\n",
              "    <tr>\n",
              "      <th>251</th>\n",
              "      <td>41.4</td>\n",
              "      <td>12.1%</td>\n",
              "    </tr>\n",
              "    <tr>\n",
              "      <th>252</th>\n",
              "      <td>29.6</td>\n",
              "      <td>39.5%</td>\n",
              "    </tr>\n",
              "    <tr>\n",
              "      <th>253</th>\n",
              "      <td>32.9</td>\n",
              "      <td>34.8%</td>\n",
              "    </tr>\n",
              "  </tbody>\n",
              "</table>\n",
              "<p>254 rows × 2 columns</p>\n",
              "</div>"
            ]
          },
          "metadata": {
            "tags": []
          },
          "execution_count": 40
        }
      ]
    },
    {
      "cell_type": "code",
      "metadata": {
        "id": "mjhBlN1tzKmY"
      },
      "source": [
        ""
      ],
      "execution_count": null,
      "outputs": []
    },
    {
      "cell_type": "code",
      "metadata": {
        "id": "GSMfIxRjza1f"
      },
      "source": [
        ""
      ],
      "execution_count": null,
      "outputs": []
    },
    {
      "cell_type": "code",
      "metadata": {
        "id": "lzT-lrYizKmZ"
      },
      "source": [
        ""
      ],
      "execution_count": null,
      "outputs": []
    },
    {
      "cell_type": "code",
      "metadata": {
        "id": "4OqV3_U-zKmZ"
      },
      "source": [
        "# Appending to excel without the other sheets being removed"
      ],
      "execution_count": null,
      "outputs": []
    },
    {
      "cell_type": "code",
      "metadata": {
        "id": "aRMxnDlNzKma"
      },
      "source": [
        "with pd.ExcelWriter('texas.xlsx', engine=\"openpyxl\", mode=\"a\") as writer:\n",
        "    df.to_excel(writer, sheet_name=\"poverty_and_age\")"
      ],
      "execution_count": null,
      "outputs": []
    },
    {
      "cell_type": "code",
      "metadata": {
        "id": "Okp4YOkKzKma"
      },
      "source": [
        ""
      ],
      "execution_count": null,
      "outputs": []
    }
  ]
}