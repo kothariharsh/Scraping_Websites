{
  "nbformat": 4,
  "nbformat_minor": 0,
  "metadata": {
    "kernelspec": {
      "display_name": "Python 3",
      "language": "python",
      "name": "python3"
    },
    "language_info": {
      "codemirror_mode": {
        "name": "ipython",
        "version": 3
      },
      "file_extension": ".py",
      "mimetype": "text/x-python",
      "name": "python",
      "nbconvert_exporter": "python",
      "pygments_lexer": "ipython3",
      "version": "3.7.6-final"
    },
    "colab": {
      "name": "texas.hometownlocator_scraping_vacancy_rate.ipynb",
      "provenance": [],
      "collapsed_sections": []
    }
  },
  "cells": [
    {
      "cell_type": "code",
      "metadata": {
        "id": "WVy7CHZ3xbB-",
        "outputId": "ed14b650-1da8-4760-c225-1c798a7931aa"
      },
      "source": [
        "import openpyxl\n",
        "\n",
        "wb = openpyxl.load_workbook('texas.xlsx')\n",
        "\n",
        "ws = wb.get_sheet_by_name('County')\n",
        "\n",
        "r = 8\n",
        "c = 2\n",
        "links={}\n",
        "for i in range(r,262):\n",
        "    links[ws.cell(row = i, column = c). value]=ws.cell(row = i, column = c). hyperlink.target\n",
        "# print(ws.cell(row = r, column = c). hyperlink_rel_id)"
      ],
      "execution_count": null,
      "outputs": [
        {
          "output_type": "stream",
          "text": [
            "ipykernel_launcher:5: DeprecationWarning: Call to deprecated function get_sheet_by_name (Use wb[sheetname]).\n"
          ],
          "name": "stderr"
        }
      ]
    },
    {
      "cell_type": "code",
      "metadata": {
        "id": "AXGE1r4_xbB_"
      },
      "source": [
        "from urllib.request import urlopen as uReq\n",
        "from bs4 import BeautifulSoup as soup"
      ],
      "execution_count": null,
      "outputs": []
    },
    {
      "cell_type": "code",
      "metadata": {
        "id": "A3de3YU-xe7J"
      },
      "source": [
        "# Try to find the location of the vacancy on the web page"
      ],
      "execution_count": 1,
      "outputs": []
    },
    {
      "cell_type": "code",
      "metadata": {
        "id": "8J8s8dNdxrXR"
      },
      "source": [
        "my_url= ('https://texas.hometownlocator.com/tx/anderson/')\n",
        "client = uReq(my_url)\n",
        "page_html = client.read()\n",
        "client.close()\n",
        "page_soup= soup(page_html,'html.parser')\n",
        "# rate= page_soup.find_all(\"table\")[2].find('td',attrs={'align':'center'}).text\n",
        "value= page_soup.find_all('table')[1].find_all('td',attrs={'align':'right'})[1].text\n",
        "vacancy=value.split('(')[1].split(')')[0]\n",
        "vacancy"
      ],
      "execution_count": null,
      "outputs": []
    },
    {
      "cell_type": "code",
      "metadata": {
        "id": "cKvXhx35xbB_"
      },
      "source": [
        "vacancyrate={}"
      ],
      "execution_count": null,
      "outputs": []
    },
    {
      "cell_type": "code",
      "metadata": {
        "tags": [],
        "id": "rwlC1-K9xbCA"
      },
      "source": [
        "for county,link in links.items():\n",
        "    my_url= (link)\n",
        "    client = uReq(my_url)\n",
        "    page_html = client.read()\n",
        "    client.close()\n",
        "    page_soup= soup(page_html,'html.parser')\n",
        "    value= page_soup.find_all('table')[1].find_all('td',attrs={'align':'right'})[3].text\n",
        "\n",
        "    vacancyrate[county]= value.split('(')[1].split(')')[0]"
      ],
      "execution_count": null,
      "outputs": []
    },
    {
      "cell_type": "code",
      "metadata": {
        "id": "tnkKeaB0xbCA",
        "outputId": "2acda36e-3c66-49c4-c078-825eabb74e87"
      },
      "source": [
        "vacancyrate.values()"
      ],
      "execution_count": null,
      "outputs": [
        {
          "output_type": "execute_result",
          "data": {
            "text/plain": [
              "dict_values(['14.1%', ' 8.0%', '14.4%', '37.5%', '13.9%', '16.8%', '13.3%', '15.3%', '11.0%', '25.9%', ' 9.3%', '36.8%', '14.9%', ' 7.8%', ' 5.5%', '19.8%', '30.1%', '23.1%', '10.8%', ' 7.9%', ' 5.9%', '22.0%', '27.9%', '22.3%', '19.7%', '22.5%', '20.3%', ' 7.5%', '33.1%', '15.9%', '16.5%', '18.5%', '12.0%', '13.6%', '15.5%', ' 7.8%', '12.9%', '19.2%', '17.8%', '22.4%', '40.5%', '32.0%', ' 5.6%', '28.1%', '23.7%', ' 9.9%', '23.4%', '36.1%', '10.9%', '10.2%', '30.5%', ' 7.4%', '21.0%', '22.8%', '21.5%', '13.2%', ' 8.8%', '17.9%', '10.1%', '15.2%', ' 3.4%', '21.9%', '30.6%', '22.4%', '28.6%', '28.9%', '29.7%', ' 6.4%', '49.4%', ' 7.2%', ' 5.6%', '13.6%', '17.9%', '13.7%', '29.4%', '24.0%', '23.5%', '30.2%', ' 3.7%', '25.5%', '21.9%', '16.3%', '10.1%', '15.9%', '24.0%', '16.5%', '18.4%', '25.2%', '19.4%', '18.5%', '10.8%', ' 9.4%', '16.2%', ' 6.5%', '14.3%', '32.6%', '24.1%', '15.8%', '30.3%', '10.8%', ' 8.7%', '12.5%', ' 8.0%', '34.4%', ' 7.2%', '14.1%', '21.0%', '13.3%', '17.6%', '12.4%', '14.2%', '10.3%', '23.3%', '12.1%', '25.4%', '10.3%', '19.4%', '24.9%', '22.7%', '18.1%', '20.8%', '35.5%', '11.8%', '23.4%', '15.5%', ' 5.4%', '19.6%', '24.0%', ' 6.3%', '10.4%', '32.6%', '34.5%', '13.3%', '38.7%', '41.9%', '28.9%', '14.4%', '28.5%', '29.5%', '11.9%', '18.4%', '11.8%', '25.9%', '18.3%', '28.1%', '11.7%', '17.9%', '15.5%', '29.2%', '35.5%', '16.0%', ' 8.0%', '14.2%', '14.1%', '26.7%', ' 7.7%', '35.7%', '26.6%', '11.0%', '22.0%', ' 7.1%', '35.7%', '13.4%', '40.9%', ' 5.0%', '16.4%', '29.3%', '31.9%', '19.7%', ' 5.9%', '10.1%', '14.8%', '28.3%', '13.0%', '13.8%', '23.1%', '19.1%', '11.5%', '10.0%', '17.4%', '13.5%', '28.0%', '15.7%', ' 8.0%', ' 9.5%', '14.4%', '25.9%', '11.2%', '25.3%', '14.7%', ' 5.0%', '13.2%', '47.4%', '20.9%', '10.2%', '25.8%', '17.5%', '22.9%', ' 4.0%', '22.2%', '13.0%', '41.0%', '34.3%', '20.2%', '15.3%', '28.8%', '21.6%', '17.9%', '21.4%', '19.2%', '13.8%', ' 8.5%', '12.6%', '13.3%', '26.7%', '26.7%', '33.2%', '19.6%', '15.9%', ' 5.6%', ' 9.7%', '36.0%', '12.5%', '31.6%', '10.8%', ' 8.7%', ' 7.1%', '27.6%', '24.6%', '11.1%', '18.3%', '17.7%', '16.1%', '11.0%', '10.7%', '11.9%', ' 9.3%', '13.4%', '17.9%', '10.6%', '13.2%', '22.3%', '12.2%', '18.0%', '18.6%', ' 5.1%', ' 8.6%', '10.3%', ' 9.0%', '17.1%', ' 9.4%', '17.9%', '27.3%', '16.3%'])"
            ]
          },
          "metadata": {
            "tags": []
          },
          "execution_count": 10
        }
      ]
    },
    {
      "cell_type": "code",
      "metadata": {
        "id": "eLoV-5_AxbCB"
      },
      "source": [
        "import pandas as pd"
      ],
      "execution_count": null,
      "outputs": []
    },
    {
      "cell_type": "code",
      "metadata": {
        "id": "dkDScUzuxbCB",
        "outputId": "80f2002f-13df-4b02-d3a3-696e138b6be1"
      },
      "source": [
        "df = pd.read_excel('texas.xlsx',sheet_name='WORKSHEET_NAME',index_col=0)\n",
        "df"
      ],
      "execution_count": null,
      "outputs": [
        {
          "output_type": "display_data",
          "data": {
            "text/plain": [
              "<IPython.core.display.Javascript object>"
            ],
            "application/javascript": [
              "\n",
              "        if (window._pyforest_update_imports_cell) { window._pyforest_update_imports_cell('import seaborn as sns\\nimport pandas as pd\\nimport sklearn'); }\n",
              "    "
            ]
          },
          "metadata": {
            "tags": []
          }
        },
        {
          "output_type": "execute_result",
          "data": {
            "text/plain": [
              "                 Population  ...  Vacancy Rate\n",
              "County Name                  ...              \n",
              "Anderson County       61445  ...           NaN\n",
              "Andrews County        17802  ...           NaN\n",
              "Angelina County       90336  ...           NaN\n",
              "Aransas County        25835  ...           NaN\n",
              "Archer County          9203  ...           NaN\n",
              "...                     ...  ...           ...\n",
              "Wood County           47839  ...           NaN\n",
              "Yoakum County          8452  ...           NaN\n",
              "Young County          18441  ...           NaN\n",
              "Zapata County         15006  ...           NaN\n",
              "Zavala County         12159  ...           NaN\n",
              "\n",
              "[254 rows x 4 columns]"
            ],
            "text/html": [
              "<div>\n",
              "<style scoped>\n",
              "    .dataframe tbody tr th:only-of-type {\n",
              "        vertical-align: middle;\n",
              "    }\n",
              "\n",
              "    .dataframe tbody tr th {\n",
              "        vertical-align: top;\n",
              "    }\n",
              "\n",
              "    .dataframe thead th {\n",
              "        text-align: right;\n",
              "    }\n",
              "</style>\n",
              "<table border=\"1\" class=\"dataframe\">\n",
              "  <thead>\n",
              "    <tr style=\"text-align: right;\">\n",
              "      <th></th>\n",
              "      <th>Population</th>\n",
              "      <th>Population Growth % 10 years</th>\n",
              "      <th>Density Count</th>\n",
              "      <th>Vacancy Rate</th>\n",
              "    </tr>\n",
              "    <tr>\n",
              "      <th>County Name</th>\n",
              "      <th></th>\n",
              "      <th></th>\n",
              "      <th></th>\n",
              "      <th></th>\n",
              "    </tr>\n",
              "  </thead>\n",
              "  <tbody>\n",
              "    <tr>\n",
              "      <th>Anderson County</th>\n",
              "      <td>61445</td>\n",
              "      <td>0.0049</td>\n",
              "      <td>58</td>\n",
              "      <td>NaN</td>\n",
              "    </tr>\n",
              "    <tr>\n",
              "      <th>Andrews County</th>\n",
              "      <td>17802</td>\n",
              "      <td>0.0183</td>\n",
              "      <td>12</td>\n",
              "      <td>NaN</td>\n",
              "    </tr>\n",
              "    <tr>\n",
              "      <th>Angelina County</th>\n",
              "      <td>90336</td>\n",
              "      <td>0.0039</td>\n",
              "      <td>113</td>\n",
              "      <td>NaN</td>\n",
              "    </tr>\n",
              "    <tr>\n",
              "      <th>Aransas County</th>\n",
              "      <td>25835</td>\n",
              "      <td>0.0107</td>\n",
              "      <td>103</td>\n",
              "      <td>NaN</td>\n",
              "    </tr>\n",
              "    <tr>\n",
              "      <th>Archer County</th>\n",
              "      <td>9203</td>\n",
              "      <td>0.0016</td>\n",
              "      <td>10</td>\n",
              "      <td>NaN</td>\n",
              "    </tr>\n",
              "    <tr>\n",
              "      <th>...</th>\n",
              "      <td>...</td>\n",
              "      <td>...</td>\n",
              "      <td>...</td>\n",
              "      <td>...</td>\n",
              "    </tr>\n",
              "    <tr>\n",
              "      <th>Wood County</th>\n",
              "      <td>47839</td>\n",
              "      <td>0.0129</td>\n",
              "      <td>74</td>\n",
              "      <td>NaN</td>\n",
              "    </tr>\n",
              "    <tr>\n",
              "      <th>Yoakum County</th>\n",
              "      <td>8452</td>\n",
              "      <td>0.0069</td>\n",
              "      <td>11</td>\n",
              "      <td>NaN</td>\n",
              "    </tr>\n",
              "    <tr>\n",
              "      <th>Young County</th>\n",
              "      <td>18441</td>\n",
              "      <td>-0.0006</td>\n",
              "      <td>20</td>\n",
              "      <td>NaN</td>\n",
              "    </tr>\n",
              "    <tr>\n",
              "      <th>Zapata County</th>\n",
              "      <td>15006</td>\n",
              "      <td>0.0067</td>\n",
              "      <td>15</td>\n",
              "      <td>NaN</td>\n",
              "    </tr>\n",
              "    <tr>\n",
              "      <th>Zavala County</th>\n",
              "      <td>12159</td>\n",
              "      <td>0.0040</td>\n",
              "      <td>9</td>\n",
              "      <td>NaN</td>\n",
              "    </tr>\n",
              "  </tbody>\n",
              "</table>\n",
              "<p>254 rows × 4 columns</p>\n",
              "</div>"
            ]
          },
          "metadata": {
            "tags": []
          },
          "execution_count": 3
        }
      ]
    },
    {
      "cell_type": "markdown",
      "metadata": {
        "id": "y0J9q2fjxbCC"
      },
      "source": [
        "## Adding the final output to the Excel sheets"
      ]
    },
    {
      "cell_type": "code",
      "metadata": {
        "id": "FdE0VaDZxbCC"
      },
      "source": [
        "df = pd.read_excel('texas.xlsx',sheet_name='Harsh_Worksheet',index_col=0)\n",
        "df['Vacancy Rates']=vacancyrate.values()\n",
        "df.to_excel('texas.xlsx',sheet_name = 'Harsh_Worksheet')"
      ],
      "execution_count": null,
      "outputs": []
    },
    {
      "cell_type": "code",
      "metadata": {
        "id": "nztgPf96xbCD"
      },
      "source": [
        ""
      ],
      "execution_count": null,
      "outputs": []
    },
    {
      "cell_type": "markdown",
      "metadata": {
        "id": "vAuef8GvxbCD"
      },
      "source": [
        "# Renters Market"
      ]
    },
    {
      "cell_type": "code",
      "metadata": {
        "id": "BCl89hC4xbCD"
      },
      "source": [
        "rentersmarket={}\n",
        "for county,link in links.items():\n",
        "    my_url= (link)\n",
        "    client = uReq(my_url)\n",
        "    page_html = client.read()\n",
        "    client.close()\n",
        "    page_soup= soup(page_html,'html.parser')\n",
        "    value= page_soup.find_all('table')[1].find_all('td',attrs={'align':'right'})[2].text\n",
        "\n",
        "    rentersmarket[county]= value.split('(')[1].split(')')[0]"
      ],
      "execution_count": null,
      "outputs": []
    },
    {
      "cell_type": "code",
      "metadata": {
        "id": "PwNHQc86xbCE",
        "outputId": "ba2fb31b-6048-46d4-db83-93df8d503e59"
      },
      "source": [
        "rentersmarket"
      ],
      "execution_count": null,
      "outputs": [
        {
          "output_type": "execute_result",
          "data": {
            "text/plain": [
              "{'Anderson County': '26.7%',\n",
              " 'Andrews County': '29.9%',\n",
              " 'Angelina County': '27.9%',\n",
              " 'Aransas County': '13.9%',\n",
              " 'Archer County': '12.9%',\n",
              " 'Armstrong County': '16.8%',\n",
              " 'Atascosa County': '22.2%',\n",
              " 'Austin County': '24.1%',\n",
              " 'Bailey County': '28.1%',\n",
              " 'Bandera County': ' 8.2%',\n",
              " 'Bastrop County': '21.3%',\n",
              " 'Baylor County': '16.3%',\n",
              " 'Bee County': '34.9%',\n",
              " 'Bell County': '41.5%',\n",
              " 'Bexar County': '39.4%',\n",
              " 'Blanco County': '20.9%',\n",
              " 'Borden County': '15.3%',\n",
              " 'Bosque County': '16.8%',\n",
              " 'Bowie County': '39.1%',\n",
              " 'Brazoria County': '26.8%',\n",
              " 'Brazos County': '54.4%',\n",
              " 'Brewster County': '34.4%',\n",
              " 'Briscoe County': '22.3%',\n",
              " 'Brooks County': '28.2%',\n",
              " 'Brown County': '24.3%',\n",
              " 'Burleson County': '17.1%',\n",
              " 'Burnet County': '20.4%',\n",
              " 'Caldwell County': '30.8%',\n",
              " 'Calhoun County': '20.2%',\n",
              " 'Callahan County': '18.4%',\n",
              " 'Cameron County': '28.2%',\n",
              " 'Camp County': '20.6%',\n",
              " 'Carson County': '16.8%',\n",
              " 'Cass County': '13.8%',\n",
              " 'Castro County': '41.0%',\n",
              " 'Chambers County': '14.1%',\n",
              " 'Cherokee County': '26.7%',\n",
              " 'Childress County': '33.3%',\n",
              " 'Clay County': '15.2%',\n",
              " 'Cochran County': '17.9%',\n",
              " 'Coke County': '13.1%',\n",
              " 'Coleman County': '17.7%',\n",
              " 'Collin County': '32.9%',\n",
              " 'Collingsworth County': '14.2%',\n",
              " 'Colorado County': '14.3%',\n",
              " 'Comal County': '20.8%',\n",
              " 'Comanche County': '17.7%',\n",
              " 'Concho County': '22.1%',\n",
              " 'Cooke County': '30.8%',\n",
              " 'Coryell County': '39.3%',\n",
              " 'Cottle County': '29.8%',\n",
              " 'Crane County': '11.2%',\n",
              " 'Crockett County': '17.7%',\n",
              " 'Crosby County': '25.3%',\n",
              " 'Culberson County': '28.8%',\n",
              " 'Dallam County': '39.3%',\n",
              " 'Dallas County': '48.2%',\n",
              " 'Dawson County': '27.3%',\n",
              " 'Deaf Smith County': '34.4%',\n",
              " 'Delta County': '26.1%',\n",
              " 'Denton County': '32.4%',\n",
              " 'DeWitt County': '21.5%',\n",
              " 'Dickens County': '21.6%',\n",
              " 'Dimmit County': '19.7%',\n",
              " 'Donley County': '18.4%',\n",
              " 'Duval County': '20.6%',\n",
              " 'Eastland County': '18.3%',\n",
              " 'Ector County': '29.8%',\n",
              " 'Edwards County': ' 9.3%',\n",
              " 'El Paso County': '34.9%',\n",
              " 'Ellis County': '21.9%',\n",
              " 'Erath County': '31.5%',\n",
              " 'Falls County': '22.1%',\n",
              " 'Fannin County': '24.0%',\n",
              " 'Fayette County': '12.2%',\n",
              " 'Fisher County': '20.0%',\n",
              " 'Floyd County': '20.6%',\n",
              " 'Foard County': ' 3.7%',\n",
              " 'Fort Bend County': '18.6%',\n",
              " 'Franklin County': '22.3%',\n",
              " 'Freestone County': '21.4%',\n",
              " 'Frio County': '25.1%',\n",
              " 'Gaines County': '16.9%',\n",
              " 'Galveston County': '26.6%',\n",
              " 'Garza County': '30.4%',\n",
              " 'Gillespie County': '20.7%',\n",
              " 'Glasscock County': '31.2%',\n",
              " 'Goliad County': '13.0%',\n",
              " 'Gonzales County': '26.6%',\n",
              " 'Gray County': '23.9%',\n",
              " 'Grayson County': '28.1%',\n",
              " 'Gregg County': '39.9%',\n",
              " 'Grimes County': '17.0%',\n",
              " 'Guadalupe County': '19.3%',\n",
              " 'Hale County': '35.1%',\n",
              " 'Hall County': '24.0%',\n",
              " 'Hamilton County': '19.1%',\n",
              " 'Hansford County': '24.2%',\n",
              " 'Hardeman County': '24.5%',\n",
              " 'Hardin County': '16.0%',\n",
              " 'Harris County': '42.0%',\n",
              " 'Harrison County': '29.3%',\n",
              " 'Hartley County': '35.9%',\n",
              " 'Haskell County': '13.2%',\n",
              " 'Hays County': '33.0%',\n",
              " 'Hemphill County': '33.6%',\n",
              " 'Henderson County': '20.0%',\n",
              " 'Hidalgo County': '26.8%',\n",
              " 'Hill County': '23.8%',\n",
              " 'Hockley County': '31.0%',\n",
              " 'Hood County': '21.3%',\n",
              " 'Hopkins County': '29.1%',\n",
              " 'Houston County': '26.0%',\n",
              " 'Howard County': '31.7%',\n",
              " 'Hudspeth County': '21.0%',\n",
              " 'Hunt County': '26.2%',\n",
              " 'Hutchinson County': '18.8%',\n",
              " 'Irion County': '21.0%',\n",
              " 'Jack County': '14.2%',\n",
              " 'Jackson County': '28.2%',\n",
              " 'Jasper County': '20.4%',\n",
              " 'Jeff Davis County': '13.7%',\n",
              " 'Jefferson County': '37.4%',\n",
              " 'Jim Hogg County': '20.3%',\n",
              " 'Jim Wells County': '27.5%',\n",
              " 'Johnson County': '23.3%',\n",
              " 'Jones County': '22.3%',\n",
              " 'Karnes County': '17.8%',\n",
              " 'Kaufman County': '20.5%',\n",
              " 'Kendall County': '21.9%',\n",
              " 'Kenedy County': '48.1%',\n",
              " 'Kent County': '23.8%',\n",
              " 'Kerr County': '25.9%',\n",
              " 'Kimble County': '13.1%',\n",
              " 'King County': '41.4%',\n",
              " 'Kinney County': '21.5%',\n",
              " 'Kleberg County': '42.8%',\n",
              " 'Knox County': ' 6.2%',\n",
              " 'La Salle County': '13.8%',\n",
              " 'Lamar County': '34.4%',\n",
              " 'Lamb County': '27.0%',\n",
              " 'Lampasas County': '24.3%',\n",
              " 'Lavaca County': '19.9%',\n",
              " 'Lee County': '16.2%',\n",
              " 'Leon County': '18.3%',\n",
              " 'Liberty County': '22.4%',\n",
              " 'Limestone County': '26.4%',\n",
              " 'Lipscomb County': '25.2%',\n",
              " 'Live Oak County': '15.5%',\n",
              " 'Llano County': '14.5%',\n",
              " 'Loving County': '24.0%',\n",
              " 'Lubbock County': '42.5%',\n",
              " 'Lynn County': '28.9%',\n",
              " 'Madison County': '27.4%',\n",
              " 'Marion County': '17.0%',\n",
              " 'Martin County': '22.4%',\n",
              " 'Mason County': '17.8%',\n",
              " 'Matagorda County': '28.4%',\n",
              " 'Maverick County': '32.5%',\n",
              " 'McCulloch County': '18.6%',\n",
              " 'McLennan County': '38.9%',\n",
              " 'McMullen County': '18.0%',\n",
              " 'Medina County': '14.9%',\n",
              " 'Menard County': '21.4%',\n",
              " 'Midland County': '33.8%',\n",
              " 'Milam County': '28.2%',\n",
              " 'Mills County': '11.3%',\n",
              " 'Mitchell County': '18.8%',\n",
              " 'Montague County': '24.8%',\n",
              " 'Montgomery County': '25.6%',\n",
              " 'Moore County': '37.0%',\n",
              " 'Morris County': '25.2%',\n",
              " 'Motley County': '22.2%',\n",
              " 'Nacogdoches County': '40.9%',\n",
              " 'Navarro County': '28.3%',\n",
              " 'Newton County': '10.1%',\n",
              " 'Nolan County': '27.5%',\n",
              " 'Nueces County': '35.9%',\n",
              " 'Ochiltree County': '21.1%',\n",
              " 'Oldham County': '21.9%',\n",
              " 'Orange County': '22.7%',\n",
              " 'Palo Pinto County': '20.2%',\n",
              " 'Panola County': '26.6%',\n",
              " 'Parker County': '18.2%',\n",
              " 'Parmer County': '33.5%',\n",
              " 'Pecos County': '22.4%',\n",
              " 'Polk County': '18.1%',\n",
              " 'Potter County': '42.9%',\n",
              " 'Presidio County': '37.3%',\n",
              " 'Rains County': '23.3%',\n",
              " 'Randall County': '25.0%',\n",
              " 'Reagan County': '24.1%',\n",
              " 'Real County': ' 9.9%',\n",
              " 'Red River County': '16.9%',\n",
              " 'Reeves County': '28.4%',\n",
              " 'Refugio County': '26.8%',\n",
              " 'Roberts County': '19.8%',\n",
              " 'Robertson County': '14.7%',\n",
              " 'Rockwall County': '14.6%',\n",
              " 'Runnels County': '22.1%',\n",
              " 'Rusk County': '22.6%',\n",
              " 'Sabine County': ' 6.5%',\n",
              " 'San Augustine County': '11.8%',\n",
              " 'San Jacinto County': '13.3%',\n",
              " 'San Patricio County': '25.6%',\n",
              " 'San Saba County': '25.3%',\n",
              " 'Schleicher County': '25.0%',\n",
              " 'Scurry County': '17.3%',\n",
              " 'Shackelford County': '14.6%',\n",
              " 'Shelby County': '24.0%',\n",
              " 'Sherman County': '23.6%',\n",
              " 'Smith County': '31.5%',\n",
              " 'Somervell County': '25.2%',\n",
              " 'Starr County': '25.0%',\n",
              " 'Stephens County': '15.6%',\n",
              " 'Sterling County': '10.4%',\n",
              " 'Stonewall County': '19.4%',\n",
              " 'Sutton County': '26.8%',\n",
              " 'Swisher County': '23.9%',\n",
              " 'Tarrant County': '37.5%',\n",
              " 'Taylor County': '37.1%',\n",
              " 'Terrell County': '13.3%',\n",
              " 'Terry County': '31.3%',\n",
              " 'Throckmorton County': '23.3%',\n",
              " 'Titus County': '34.0%',\n",
              " 'Tom Green County': '37.1%',\n",
              " 'Travis County': '44.5%',\n",
              " 'Trinity County': '18.3%',\n",
              " 'Tyler County': ' 9.9%',\n",
              " 'Upshur County': '19.0%',\n",
              " 'Upton County': '23.3%',\n",
              " 'Uvalde County': '25.6%',\n",
              " 'Val Verde County': '33.6%',\n",
              " 'Van Zandt County': '20.7%',\n",
              " 'Victoria County': '34.6%',\n",
              " 'Walker County': '46.6%',\n",
              " 'Waller County': '25.9%',\n",
              " 'Ward County': '24.7%',\n",
              " 'Washington County': '17.0%',\n",
              " 'Webb County': '31.5%',\n",
              " 'Wharton County': '30.9%',\n",
              " 'Wheeler County': '28.9%',\n",
              " 'Wichita County': '36.8%',\n",
              " 'Wilbarger County': '31.5%',\n",
              " 'Willacy County': '16.0%',\n",
              " 'Williamson County': '26.1%',\n",
              " 'Wilson County': '17.5%',\n",
              " 'Winkler County': '19.7%',\n",
              " 'Wise County': '23.0%',\n",
              " 'Wood County': '17.9%',\n",
              " 'Yoakum County': '27.7%',\n",
              " 'Young County': '15.2%',\n",
              " 'Zapata County': '20.5%',\n",
              " 'Zavala County': '23.4%'}"
            ]
          },
          "metadata": {
            "tags": []
          },
          "execution_count": 16
        }
      ]
    },
    {
      "cell_type": "code",
      "metadata": {
        "id": "VogsKRrOxbCE"
      },
      "source": [
        "df = pd.read_excel('texas.xlsx',sheet_name='Harsh_Worksheet',index_col=0)\n",
        "df['Renters Market']=rentersmarket.values()\n",
        "df.to_excel('texas.xlsx',sheet_name = 'Harsh_Worksheet')"
      ],
      "execution_count": null,
      "outputs": []
    },
    {
      "cell_type": "markdown",
      "metadata": {
        "id": "6O6J71V0xbCE"
      },
      "source": [
        "# Home Owner's Market"
      ]
    },
    {
      "cell_type": "code",
      "metadata": {
        "id": "0oTrp7JCxbCE"
      },
      "source": [
        "ownersmarket={}\n",
        "for county,link in links.items():\n",
        "    my_url= (link)\n",
        "    client = uReq(my_url)\n",
        "    page_html = client.read()\n",
        "    client.close()\n",
        "    page_soup= soup(page_html,'html.parser')\n",
        "    value= page_soup.find_all('table')[1].find_all('td',attrs={'align':'right'})[1].text\n",
        "\n",
        "    ownersmarket[county]= value.split('(')[1].split(')')[0]"
      ],
      "execution_count": null,
      "outputs": []
    },
    {
      "cell_type": "code",
      "metadata": {
        "id": "_TczZGswxbCF",
        "outputId": "66b8c89d-947f-4750-89c9-7576ac308cda"
      },
      "source": [
        "ownersmarket"
      ],
      "execution_count": null,
      "outputs": [
        {
          "output_type": "execute_result",
          "data": {
            "text/plain": [
              "{'Anderson County': '59.2%',\n",
              " 'Andrews County': '62.1%',\n",
              " 'Angelina County': '57.7%',\n",
              " 'Aransas County': '48.6%',\n",
              " 'Archer County': '73.2%',\n",
              " 'Armstrong County': '66.4%',\n",
              " 'Atascosa County': '64.6%',\n",
              " 'Austin County': '60.6%',\n",
              " 'Bailey County': '60.9%',\n",
              " 'Bandera County': '65.9%',\n",
              " 'Bastrop County': '69.3%',\n",
              " 'Baylor County': '46.9%',\n",
              " 'Bee County': '50.2%',\n",
              " 'Bell County': '50.8%',\n",
              " 'Bexar County': '55.1%',\n",
              " 'Blanco County': '59.4%',\n",
              " 'Borden County': '54.5%',\n",
              " 'Bosque County': '60.1%',\n",
              " 'Bowie County': '50.0%',\n",
              " 'Brazoria County': '65.3%',\n",
              " 'Brazos County': '39.7%',\n",
              " 'Brewster County': '43.6%',\n",
              " 'Briscoe County': '49.8%',\n",
              " 'Brooks County': '49.5%',\n",
              " 'Brown County': '56.0%',\n",
              " 'Burleson County': '60.4%',\n",
              " 'Burnet County': '59.3%',\n",
              " 'Caldwell County': '61.7%',\n",
              " 'Calhoun County': '46.7%',\n",
              " 'Callahan County': '65.6%',\n",
              " 'Cameron County': '55.2%',\n",
              " 'Camp County': '60.8%',\n",
              " 'Carson County': '71.3%',\n",
              " 'Cass County': '72.6%',\n",
              " 'Castro County': '43.5%',\n",
              " 'Chambers County': '78.1%',\n",
              " 'Cherokee County': '60.4%',\n",
              " 'Childress County': '47.5%',\n",
              " 'Clay County': '67.0%',\n",
              " 'Cochran County': '59.7%',\n",
              " 'Coke County': '46.4%',\n",
              " 'Coleman County': '50.3%',\n",
              " 'Collin County': '61.5%',\n",
              " 'Collingsworth County': '57.7%',\n",
              " 'Colorado County': '61.9%',\n",
              " 'Comal County': '69.4%',\n",
              " 'Comanche County': '58.9%',\n",
              " 'Concho County': '41.8%',\n",
              " 'Cooke County': '58.3%',\n",
              " 'Coryell County': '50.5%',\n",
              " 'Cottle County': '39.7%',\n",
              " 'Crane County': '81.4%',\n",
              " 'Crockett County': '61.4%',\n",
              " 'Crosby County': '51.9%',\n",
              " 'Culberson County': '49.6%',\n",
              " 'Dallam County': '47.5%',\n",
              " 'Dallas County': '43.1%',\n",
              " 'Dawson County': '54.7%',\n",
              " 'Deaf Smith County': '55.6%',\n",
              " 'Delta County': '58.7%',\n",
              " 'Denton County': '64.2%',\n",
              " 'DeWitt County': '56.6%',\n",
              " 'Dickens County': '47.8%',\n",
              " 'Dimmit County': '57.9%',\n",
              " 'Donley County': '52.9%',\n",
              " 'Duval County': '50.6%',\n",
              " 'Eastland County': '52.0%',\n",
              " 'Ector County': '63.8%',\n",
              " 'Edwards County': '41.3%',\n",
              " 'El Paso County': '57.9%',\n",
              " 'Ellis County': '72.5%',\n",
              " 'Erath County': '54.9%',\n",
              " 'Falls County': '60.0%',\n",
              " 'Fannin County': '62.3%',\n",
              " 'Fayette County': '58.4%',\n",
              " 'Fisher County': '56.0%',\n",
              " 'Floyd County': '55.9%',\n",
              " 'Foard County': '66.1%',\n",
              " 'Fort Bend County': '77.7%',\n",
              " 'Franklin County': '52.1%',\n",
              " 'Freestone County': '56.7%',\n",
              " 'Frio County': '58.5%',\n",
              " 'Gaines County': '73.0%',\n",
              " 'Galveston County': '57.5%',\n",
              " 'Garza County': '45.6%',\n",
              " 'Gillespie County': '62.8%',\n",
              " 'Glasscock County': '50.3%',\n",
              " 'Goliad County': '61.7%',\n",
              " 'Gonzales County': '54.0%',\n",
              " 'Gray County': '57.5%',\n",
              " 'Grayson County': '61.2%',\n",
              " 'Gregg County': '50.8%',\n",
              " 'Grimes County': '66.8%',\n",
              " 'Guadalupe County': '74.2%',\n",
              " 'Hale County': '50.6%',\n",
              " 'Hall County': '43.3%',\n",
              " 'Hamilton County': '56.8%',\n",
              " 'Hansford County': '60.1%',\n",
              " 'Hardeman County': '45.2%',\n",
              " 'Hardin County': '73.2%',\n",
              " 'Harris County': '49.2%',\n",
              " 'Harrison County': '58.3%',\n",
              " 'Hartley County': '56.1%',\n",
              " 'Haskell County': '52.4%',\n",
              " 'Hays County': '59.8%',\n",
              " 'Hemphill County': '52.3%',\n",
              " 'Henderson County': '59.0%',\n",
              " 'Hidalgo County': '60.0%',\n",
              " 'Hill County': '58.6%',\n",
              " 'Hockley County': '56.6%',\n",
              " 'Hood County': '64.4%',\n",
              " 'Hopkins County': '60.5%',\n",
              " 'Houston County': '50.6%',\n",
              " 'Howard County': '56.2%',\n",
              " 'Hudspeth County': '53.7%',\n",
              " 'Hunt County': '63.4%',\n",
              " 'Hutchinson County': '61.8%',\n",
              " 'Irion County': '54.1%',\n",
              " 'Jack County': '63.1%',\n",
              " 'Jackson County': '53.7%',\n",
              " 'Jasper County': '58.8%',\n",
              " 'Jeff Davis County': '50.8%',\n",
              " 'Jefferson County': '50.8%',\n",
              " 'Jim Hogg County': '56.3%',\n",
              " 'Jim Wells County': '56.9%',\n",
              " 'Johnson County': '71.3%',\n",
              " 'Jones County': '58.1%',\n",
              " 'Karnes County': '58.2%',\n",
              " 'Kaufman County': '73.2%',\n",
              " 'Kendall County': '67.7%',\n",
              " 'Kenedy County': '19.3%',\n",
              " 'Kent County': '41.7%',\n",
              " 'Kerr County': '60.8%',\n",
              " 'Kimble County': '48.2%',\n",
              " 'King County': '16.7%',\n",
              " 'Kinney County': '49.6%',\n",
              " 'Kleberg County': '42.8%',\n",
              " 'Knox County': '65.3%',\n",
              " 'La Salle County': '56.7%',\n",
              " 'Lamar County': '53.8%',\n",
              " 'Lamb County': '54.6%',\n",
              " 'Lampasas County': '63.9%',\n",
              " 'Lavaca County': '54.1%',\n",
              " 'Lee County': '65.5%',\n",
              " 'Leon County': '53.6%',\n",
              " 'Liberty County': '65.9%',\n",
              " 'Limestone County': '55.7%',\n",
              " 'Lipscomb County': '59.3%',\n",
              " 'Live Oak County': '55.3%',\n",
              " 'Llano County': '50.0%',\n",
              " 'Loving County': '60.0%',\n",
              " 'Lubbock County': '49.5%',\n",
              " 'Lynn County': '57.0%',\n",
              " 'Madison County': '58.5%',\n",
              " 'Marion County': '56.3%',\n",
              " 'Martin County': '69.9%',\n",
              " 'Mason County': '46.5%',\n",
              " 'Matagorda County': '44.9%',\n",
              " 'Maverick County': '56.6%',\n",
              " 'McCulloch County': '59.4%',\n",
              " 'McLennan County': '54.1%',\n",
              " 'McMullen County': '46.3%',\n",
              " 'Medina County': '71.6%',\n",
              " 'Menard County': '37.7%',\n",
              " 'Midland County': '61.2%',\n",
              " 'Milam County': '55.4%',\n",
              " 'Mills County': '59.3%',\n",
              " 'Mitchell County': '49.3%',\n",
              " 'Montague County': '55.4%',\n",
              " 'Montgomery County': '68.5%',\n",
              " 'Moore County': '52.9%',\n",
              " 'Morris County': '60.0%',\n",
              " 'Motley County': '49.5%',\n",
              " 'Nacogdoches County': '46.1%',\n",
              " 'Navarro County': '57.9%',\n",
              " 'Newton County': '66.9%',\n",
              " 'Nolan County': '53.3%',\n",
              " 'Nueces County': '52.6%',\n",
              " 'Ochiltree County': '68.9%',\n",
              " 'Oldham County': '60.8%',\n",
              " 'Orange County': '63.7%',\n",
              " 'Palo Pinto County': '51.8%',\n",
              " 'Panola County': '57.7%',\n",
              " 'Parker County': '73.8%',\n",
              " 'Parmer County': '57.0%',\n",
              " 'Pecos County': '63.2%',\n",
              " 'Polk County': '56.0%',\n",
              " 'Potter County': '45.8%',\n",
              " 'Presidio County': '37.4%',\n",
              " 'Rains County': '62.1%',\n",
              " 'Randall County': '70.0%',\n",
              " 'Reagan County': '62.8%',\n",
              " 'Real County': '42.7%',\n",
              " 'Red River County': '62.1%',\n",
              " 'Reeves County': '61.5%',\n",
              " 'Refugio County': '47.4%',\n",
              " 'Roberts County': '62.6%',\n",
              " 'Robertson County': '62.4%',\n",
              " 'Rockwall County': '81.4%',\n",
              " 'Runnels County': '55.7%',\n",
              " 'Rusk County': '64.4%',\n",
              " 'Sabine County': '52.5%',\n",
              " 'San Augustine County': '53.9%',\n",
              " 'San Jacinto County': '66.5%',\n",
              " 'San Patricio County': '59.2%',\n",
              " 'San Saba County': '45.9%',\n",
              " 'Schleicher County': '53.4%',\n",
              " 'Scurry County': '64.8%',\n",
              " 'Shackelford County': '64.0%',\n",
              " 'Shelby County': '56.8%',\n",
              " 'Sherman County': '62.6%',\n",
              " 'Smith County': '60.0%',\n",
              " 'Somervell County': '62.2%',\n",
              " 'Starr County': '61.7%',\n",
              " 'Stephens County': '57.7%',\n",
              " 'Sterling County': '63.0%',\n",
              " 'Stonewall County': '47.5%',\n",
              " 'Sutton County': '53.6%',\n",
              " 'Swisher County': '60.2%',\n",
              " 'Tarrant County': '56.9%',\n",
              " 'Taylor County': '53.3%',\n",
              " 'Terrell County': '50.7%',\n",
              " 'Terry County': '56.2%',\n",
              " 'Throckmorton County': '45.1%',\n",
              " 'Titus County': '55.2%',\n",
              " 'Tom Green County': '54.2%',\n",
              " 'Travis County': '48.3%',\n",
              " 'Trinity County': '54.1%',\n",
              " 'Tyler County': '65.5%',\n",
              " 'Upshur County': '69.9%',\n",
              " 'Upton County': '58.4%',\n",
              " 'Uvalde County': '56.8%',\n",
              " 'Val Verde County': '50.3%',\n",
              " 'Van Zandt County': '68.3%',\n",
              " 'Victoria County': '54.6%',\n",
              " 'Walker County': '41.5%',\n",
              " 'Waller County': '64.7%',\n",
              " 'Ward County': '61.9%',\n",
              " 'Washington County': '65.1%',\n",
              " 'Webb County': '58.0%',\n",
              " 'Wharton County': '55.9%',\n",
              " 'Wheeler County': '48.8%',\n",
              " 'Wichita County': '51.0%',\n",
              " 'Wilbarger County': '50.4%',\n",
              " 'Willacy County': '65.4%',\n",
              " 'Williamson County': '68.8%',\n",
              " 'Wilson County': '73.9%',\n",
              " 'Winkler County': '69.9%',\n",
              " 'Wise County': '68.0%',\n",
              " 'Wood County': '64.9%',\n",
              " 'Yoakum County': '62.9%',\n",
              " 'Young County': '66.9%',\n",
              " 'Zapata County': '52.2%',\n",
              " 'Zavala County': '60.3%'}"
            ]
          },
          "metadata": {
            "tags": []
          },
          "execution_count": 22
        }
      ]
    },
    {
      "cell_type": "code",
      "metadata": {
        "id": "QnUefFAxxbCF"
      },
      "source": [
        "df = pd.read_excel('texas.xlsx',sheet_name='Harsh_Worksheet',index_col=0)\n",
        "df['Owners Market']=ownersmarket.values()\n",
        "df.to_excel('texas.xlsx',sheet_name = 'Harsh_Worksheet')"
      ],
      "execution_count": null,
      "outputs": []
    },
    {
      "cell_type": "code",
      "metadata": {
        "id": "NpnZFou2xbCF"
      },
      "source": [
        ""
      ],
      "execution_count": null,
      "outputs": []
    },
    {
      "cell_type": "code",
      "metadata": {
        "id": "Pj5_3YusxbCF"
      },
      "source": [
        ""
      ],
      "execution_count": null,
      "outputs": []
    },
    {
      "cell_type": "code",
      "metadata": {
        "id": "yjIwpSawxbCG"
      },
      "source": [
        ""
      ],
      "execution_count": null,
      "outputs": []
    },
    {
      "cell_type": "markdown",
      "metadata": {
        "id": "TtAA5TJYxbCG"
      },
      "source": [
        "# Appending to excel without the other sheets being removed"
      ]
    },
    {
      "cell_type": "code",
      "metadata": {
        "id": "Ab4oScWgxbCG"
      },
      "source": [
        "with pd.ExcelWriter('texas.xlsx', engine=\"openpyxl\", mode=\"a\") as writer:\n",
        "    result.to_excel(writer, sheet_name=\"name_of_sheet\")"
      ],
      "execution_count": null,
      "outputs": []
    }
  ]
}